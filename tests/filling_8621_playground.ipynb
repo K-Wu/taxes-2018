{
 "cells": [
  {
   "cell_type": "code",
   "execution_count": 1,
   "metadata": {},
   "outputs": [
    {
     "name": "stdout",
     "output_type": "stream",
     "text": [
      "Adding the repo_root to PYTHONPATH:  d:\\impact-repos\\taxes-2018\n"
     ]
    }
   ],
   "source": [
    "import sys\n",
    "import os\n",
    "\n",
    "repo_root = os.path.dirname(os.getcwd())\n",
    "print(\n",
    "    \"Adding the repo_root to PYTHONPATH: \",\n",
    "    repo_root,\n",
    ")\n",
    "sys.path.append(repo_root)"
   ]
  },
  {
   "cell_type": "code",
   "execution_count": 2,
   "metadata": {},
   "outputs": [],
   "source": [
    "import pandas"
   ]
  },
  {
   "cell_type": "code",
   "execution_count": 3,
   "metadata": {},
   "outputs": [
    {
     "name": "stdout",
     "output_type": "stream",
     "text": [
      "    账号              基金名                                           基金英文  \\\n",
      "30  雪球  建信深证基本面60ETF联接A          CCB SZSE Fundamental 60 ETF Connect A   \n",
      "31  雪球      富国中证500指数增强           Full Goal CSI 500 Index strengthened   \n",
      "32  雪球         交银优势行业混合  Bank of Communications advantage industry mix   \n",
      "\n",
      "                                              Address Share class description  \\\n",
      "30  Floor 16, Yinglan International Financial Cent...           common shares   \n",
      "31  Floors 27-30, Century Exchange Tower 2, No. 11...           common shares   \n",
      "32  Floor 8-9, No. 333, Lujiazui Ring Road, China ...           common shares   \n",
      "\n",
      "   Date shares acquired    基金编号 自定基金编号  2023年年底持有份额（货币基金，雪球组合和支付宝锐意进取1元==1份）  \\\n",
      "30       Not applicable  530015    NaN                               1869.48   \n",
      "31       Not applicable  161017    NaN                               1455.44   \n",
      "32       Not applicable  519697    NaN                               3691.69   \n",
      "\n",
      "    2023年年底每股价格（人民币元，如果持有份额无法直接获取，请填写）  2023年年底总资产（人民币元）  2023年收益（人民币元）  \\\n",
      "30                                 NaN           4066.12    -278.025299   \n",
      "31                                 NaN           3084.08     -65.511503   \n",
      "32                                 NaN          14555.94   -4379.847694   \n",
      "\n",
      "   2023年MtM加总至ordinary income的收益（人民币元） Unnamed: 13  2024-02-05清仓时相比2023年底收益  \\\n",
      "30                                   0         NaN                      NaN   \n",
      "31                                   0         NaN                      NaN   \n",
      "32                                   0         NaN                      NaN   \n",
      "\n",
      "    卖出时持有份额  卖出时持有单价 卖出备注  \n",
      "30      NaN      NaN  NaN  \n",
      "31      NaN      NaN  NaN  \n",
      "32      NaN      NaN  NaN  \n"
     ]
    }
   ],
   "source": [
    "df = pandas.read_excel(\n",
    "    \"C:/Users/tonyw/Box/2024 Spring/TaxReturn/CapitalLoss.xlsx\",\n",
    "    \"基金详情\",\n",
    ")\n",
    "print(df[30:33])"
   ]
  },
  {
   "cell_type": "code",
   "execution_count": 4,
   "metadata": {},
   "outputs": [
    {
     "data": {
      "text/plain": [
       "'530015'"
      ]
     },
     "execution_count": 4,
     "metadata": {},
     "output_type": "execute_result"
    }
   ],
   "source": [
    "df.iloc[30][\"基金编号\"]"
   ]
  },
  {
   "cell_type": "code",
   "execution_count": 5,
   "metadata": {},
   "outputs": [
    {
     "name": "stdout",
     "output_type": "stream",
     "text": [
      "<class 'pandas.core.series.Series'>\n",
      "False\n",
      "Fund Building, No. 5999, Yitian Road, Lianhua Street, Futian District, Shenzhen 518048, China\n",
      "<class 'pandas.core.series.Series'>\n",
      "False\n",
      "Fund Building, No. 5999, Yitian Road, Lianhua Street, Futian District, Shenzhen 518048, China\n",
      "<class 'pandas.core.series.Series'>\n",
      "False\n",
      "Huatai Securities Plaza, No. 228 Jiangdong Middle Road, Nanjing, Jiangsu 210019, China\n"
     ]
    }
   ],
   "source": [
    "for idx_row in range(0,3):\n",
    "    row = df.iloc[idx_row]\n",
    "    print(type(row))\n",
    "    print(row.isna()[\"Address\"])\n",
    "    print(row[\"Address\"])"
   ]
  },
  {
   "cell_type": "markdown",
   "metadata": {},
   "source": [
    "# Creating New DataFrame"
   ]
  },
  {
   "cell_type": "code",
   "execution_count": 7,
   "metadata": {},
   "outputs": [
    {
     "name": "stdout",
     "output_type": "stream",
     "text": [
      "   Name   Age      City\n",
      "0  John  35.0  New York\n"
     ]
    },
    {
     "name": "stderr",
     "output_type": "stream",
     "text": [
      "C:\\Users\\tonyw\\AppData\\Local\\Temp\\ipykernel_56784\\2278594807.py:11: FutureWarning: The frame.append method is deprecated and will be removed from pandas in a future version. Use pandas.concat instead.\n",
      "  df2 = df2.append(new_row2, ignore_index=True)\n"
     ]
    }
   ],
   "source": [
    "data2 = {\n",
    "    \"Name\": [],\n",
    "    \"Age\": [],\n",
    "    \"City\": [],\n",
    "}\n",
    "df2 = pandas.DataFrame(data2)\n",
    "\n",
    "# By setting the ignore_index parameter to True, you ensure that the new row is added to the DataFrame with a new index, maintaining a continuous index sequence.\n",
    "# From https://saturncloud.io/blog/how-to-add-new-rows-to-a-pandas-dataframe/\n",
    "new_row2 = {\"Name\": \"John\", \"Age\": 35, \"City\": \"New York\"}\n",
    "df2 = df2.append(new_row2, ignore_index=True)\n",
    "print(df2)"
   ]
  }
 ],
 "metadata": {
  "kernelspec": {
   "display_name": "base",
   "language": "python",
   "name": "python3"
  },
  "language_info": {
   "codemirror_mode": {
    "name": "ipython",
    "version": 3
   },
   "file_extension": ".py",
   "mimetype": "text/x-python",
   "name": "python",
   "nbconvert_exporter": "python",
   "pygments_lexer": "ipython3",
   "version": "3.10.9"
  }
 },
 "nbformat": 4,
 "nbformat_minor": 2
}
