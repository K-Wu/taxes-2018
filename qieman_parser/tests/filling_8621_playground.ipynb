{
 "cells": [
  {
   "cell_type": "code",
   "execution_count": 3,
   "metadata": {},
   "outputs": [],
   "source": [
    "import pandas"
   ]
  },
  {
   "cell_type": "code",
   "execution_count": 4,
   "metadata": {},
   "outputs": [
    {
     "name": "stdout",
     "output_type": "stream",
     "text": [
      "    账号              基金名                                           基金英文  \\\n",
      "30  雪球  建信深证基本面60ETF联接A          CCB SZSE Fundamental 60 ETF Connect A   \n",
      "31  雪球      富国中证500指数增强           Full Goal CSI 500 Index strengthened   \n",
      "32  雪球         交银优势行业混合  Bank of Communications advantage industry mix   \n",
      "\n",
      "                                              Address Share class description  \\\n",
      "30  Floor 16, Yinglan International Financial Cent...           common shares   \n",
      "31  Floors 27-30, Century Exchange Tower 2, No. 11...           common shares   \n",
      "32  Floor 8-9, No. 333, Lujiazui Ring Road, China ...           common shares   \n",
      "\n",
      "   Date shares acquired    基金编号 自定基金编号  2023年年底持有份额（货币基金，雪球组合和支付宝锐意进取1元==1份）  \\\n",
      "30       Not applicable  530015    NaN                               1869.48   \n",
      "31       Not applicable  161017    NaN                               1455.44   \n",
      "32       Not applicable  519697    NaN                               3691.69   \n",
      "\n",
      "    2023年年底每股价格（人民币元，如果持有份额无法直接获取，请填写）  2023年年底总资产（人民币元）  2023年收益（人民币元）  \\\n",
      "30                                 NaN           4066.12    -278.025299   \n",
      "31                                 NaN           3084.08     -65.511503   \n",
      "32                                 NaN          14555.94   -4379.847694   \n",
      "\n",
      "   2023年MtM加总至ordinary income的收益（人民币元） Unnamed: 13  2024-02-05清仓时相比2023年底收益  \\\n",
      "30                                   0         NaN                      NaN   \n",
      "31                                   0         NaN                      NaN   \n",
      "32                                   0         NaN                      NaN   \n",
      "\n",
      "    卖出时持有份额  卖出时持有单价 卖出备注  \n",
      "30      NaN      NaN  NaN  \n",
      "31      NaN      NaN  NaN  \n",
      "32      NaN      NaN  NaN  \n"
     ]
    }
   ],
   "source": [
    "df = pandas.read_excel(\n",
    "    \"C:/Users/tonyw/Box/2024 Spring/TaxReturn/CapitalLoss.xlsx\",\n",
    "    \"基金详情\",\n",
    ")\n",
    "print(df[30:33])\n",
    "\n",
    "# \"基金英文\" for name_foreign_corp_pfic_entity\n",
    "# \"Address\" for  address_entity\n",
    "# 2023 for tax_year_entity\n",
    "# \"账号\", \"基金编号\", \"自定基金编号\" for reference_id_number\n",
    "# \"Share class description\" for description_class_shares\n",
    "# \"Date shares acquired\" for description_class_shares\n",
    "# \"2023年年底持有份额（货币基金，雪球组合和支付宝锐意进取1元==1份）\" for number_of_shares_held_at_end_year\n",
    "# If previous is not available, use \"2023年年底总资产（人民币元）\"/ \"2023年年底每股价格（人民币元，如果持有份额无法直接获取，请填写）\" for number_of_shares_held_at_end_year\n",
    "# \"2023年年底总资产（人民币元）\" for value_if_more_than_200k, value_150k_to_200k, value_100k_to_150k, value_50k_to_100k, value_0k_to_50k\n",
    "# type_pfic_section_1296_excessive is checked\n",
    "# elect_to_mark_to_market_stock is checked\n",
    "# \"2023年MtM加总至ordinary income的收益（人民币元）\"/currency_exchange_rates[2023] report positive in the box type_pfic_section_1296_excess_amount\n",
    "# \"2023年年底总资产（人民币元）\"/currency_exchange_rates[2023] for 10a_mark_to_market (fair market value)\n",
    "# (\"2023年年底总资产（人民币元）\" - \"2023年收益（人民币元）\")/currency_exchange_rates[2023] for 10b_mark_to_market (adjusted basis)\n",
    "# \"2023年收益（人民币元）\"/currency_exchange_rates[2023] for 10c_mark_to_market\n",
    "# 0 for 11_mark_to_market, and 12_mark_to_market (unreversed inclusions)\n",
    "# Keep Line 13--14 empty as they are related to sale or disposal\n",
    "ACCOUNT_TO_ENGLISH_MAP = {\n",
    "    \"雪球\": \"XQ\",\n",
    "    \"涨乐\": \"ZL\",\n",
    "    \"支付宝\": \"ZFB\",\n",
    "    \"国投瑞银\": \"GTRY\",\n",
    "    \"中欧\": \"ZO\",\n",
    "    \"雪球\": \"XQ\",\n",
    "    \"理财通\": \"LCT\",\n",
    "    \"且慢\": \"QM\",\n",
    "    \"招商银行\": \"ZSYH\",\n",
    "}"
   ]
  },
  {
   "cell_type": "code",
   "execution_count": 5,
   "metadata": {},
   "outputs": [
    {
     "data": {
      "text/plain": [
       "'530015'"
      ]
     },
     "execution_count": 5,
     "metadata": {},
     "output_type": "execute_result"
    }
   ],
   "source": [
    "df.iloc[30][\"基金编号\"]"
   ]
  },
  {
   "cell_type": "code",
   "execution_count": 12,
   "metadata": {},
   "outputs": [
    {
     "name": "stdout",
     "output_type": "stream",
     "text": [
      "False\n",
      "Fund Building, No. 5999, Yitian Road, Lianhua Street, Futian District, Shenzhen 518048, China\n",
      "False\n",
      "Fund Building, No. 5999, Yitian Road, Lianhua Street, Futian District, Shenzhen 518048, China\n",
      "False\n",
      "Huatai Securities Plaza, No. 228 Jiangdong Middle Road, Nanjing, Jiangsu 210019, China\n",
      "False\n",
      "Floor 31-33, South Tower, Poly International Plaza, No. 1 Pazhou Avenue East, Haizhu District, Guangzhou 510308, China\n",
      "False\n",
      "Huatai Securities Plaza, No. 228 Jiangdong Middle Road, Nanjing, Jiangsu 210019, China\n",
      "False\n",
      "Floor 40-43, Guangzhou Bank Building, No. 30 Zhujiang East Road, Zhujiang New Town, Tianhe District, Guangzhou 510620, China\n",
      "False\n",
      "Floor 40-43, Guangzhou Bank Building, No. 30 Zhujiang East Road, Zhujiang New Town, Tianhe District, Guangzhou 510620, China\n",
      "False\n",
      "A Space, No. 569 Xixi Road, Xihu District, Hangzhou 310013, China\n",
      "False\n",
      "Floor 40-43, Guangzhou Bank Building, No. 30 Zhujiang East Road, Zhujiang New Town, Tianhe District, Guangzhou 510620, China\n",
      "False\n",
      "Floor 20, Tower A, Yuetan Building, No. 2, Yuetan North Street, Xicheng District, Beijing 100048, China\n",
      "False\n",
      "Floor 16, Yinglan International Financial Center, No. 7 Financial Street, Xicheng District, Beijing 100032, China\n",
      "False\n",
      "A Space, No. 569 Xixi Road, Xihu District, Hangzhou 310013, China\n",
      "False\n",
      "8th Floor, Bank of Beijing Building, No. 17 Financial Street C, Xicheng District, Beijing 100033, China\n",
      "False\n",
      "No. 728, Waima Road, Huangpu District, Shanghai 200010, China\n",
      "False\n",
      "Floor 26, Bank of China Tower, No. 200 Yincheng Middle Road, Pudong, Shanghai 200120, China\n",
      "False\n",
      "Room 3006, 3rd Floor, Building 2, No. 11 Xinhua East Street, Tongzhou District, Beijing 101100, China\n",
      "False\n",
      "Floor 40-43, Guangzhou Bank Building, No. 30 Zhujiang East Road, Zhujiang New Town, Tianhe District, Guangzhou 510620, China\n",
      "False\n",
      "Floors 27-30, Century Exchange Tower 2, No. 1196 Century Avenue, Pudong New District, Shanghai 200122, China\n",
      "False\n",
      "Floor 20, Tower A, Yuetan Building, No. 2, Yuetan North Street, Xicheng District, Beijing 100045, China\n",
      "False\n",
      "20F, No.168 Yang Shu Pu Road, Hongkou District, Shanghai 200082, China \n",
      "False\n",
      "8th Floor, Shanghai Tower, No. 479, Lujiazui Ring Road, China (Shanghai) Pilot Free Trade Zone, Shanghai 200120, China\n",
      "False\n",
      "Area A, Room 1701, Floor 17, Building C, No. 12, Jianguomenwai Street, Chaoyang District, Beijing 100010, China\n",
      "False\n",
      "Area A, Room 1701, Floor 17, Building C, No. 12, Jianguomenwai Street, Chaoyang District, Beijing 100010, China\n",
      "False\n",
      "8th Floor, Shanghai Tower, No. 479, Lujiazui Ring Road, China (Shanghai) Pilot Free Trade Zone, Shanghai 200120, China\n",
      "False\n",
      "8th Floor, Shanghai Tower, No. 479, Lujiazui Ring Road, China (Shanghai) Pilot Free Trade Zone, Shanghai 200120, China\n",
      "False\n",
      "10th Floor, China Resources Building, No. 2666 Keyuan South Road, Nanshan District, Shenzhen 518063, China\n",
      "False\n",
      "Floor 40-43, Guangzhou Bank Building, No. 30 Zhujiang East Road, Zhujiang New Town, Tianhe District, Guangzhou 510620, China\n",
      "False\n",
      "Floor 40-43, Guangzhou Bank Building, No. 30 Zhujiang East Road, Zhujiang New Town, Tianhe District, Guangzhou 510620, China\n",
      "False\n",
      "No. 728, Waima Road, Huangpu District, Shanghai 200010, China\n",
      "False\n",
      "Room 3006, 3rd Floor, Building 2, No. 11 Xinhua East Street, Tongzhou District, Beijing 101100, China\n",
      "False\n",
      "Floor 16, Yinglan International Financial Center, No. 7 Financial Street, Xicheng District, Beijing 100032, China\n",
      "False\n",
      "Floors 27-30, Century Exchange Tower 2, No. 1196 Century Avenue, Pudong New District, Shanghai 200122, China\n",
      "False\n",
      "Floor 8-9, No. 333, Lujiazui Ring Road, China (Shanghai) Pilot Free Trade Zone, Shanghai 200120, China\n",
      "False\n",
      "Floor 8-9, No. 333, Lujiazui Ring Road, China (Shanghai) Pilot Free Trade Zone, Shanghai 200120, China\n",
      "False\n",
      "8th Floor, Bank of Beijing Building, No. 17 Financial Street C, Xicheng District, Beijing 100033, China\n",
      "False\n",
      "Floor 40-43, Guangzhou Bank Building, No. 30 Zhujiang East Road, Zhujiang New Town, Tianhe District, Guangzhou 510620, China\n",
      "False\n",
      "Floor 40-43, Guangzhou Bank Building, No. 30 Zhujiang East Road, Zhujiang New Town, Tianhe District, Guangzhou 510620, China\n",
      "False\n",
      "Floor 40-43, Guangzhou Bank Building, No. 30 Zhujiang East Road, Zhujiang New Town, Tianhe District, Guangzhou 510620, China\n",
      "False\n",
      "Room 3006, 3rd Floor, Building 2, No. 11 Xinhua East Street, Tongzhou District, Beijing 101100, China\n",
      "False\n",
      "Huatai Securities Plaza, No. 228 Jiangdong Middle Road, Nanjing, Jiangsu 210019, China\n",
      "False\n",
      "Floor 31, Shanghai International Financial Center Phase 2, No. 8 Century Avenue, Pudong New Area, Shanghai 200120, China\n",
      "False\n",
      "Fund Building, No. 5999, Yitian Road, Lianhua Street, Futian District, Shenzhen 518048, China\n",
      "False\n",
      "Room 3006, 3rd Floor, Building 2, No. 11 Xinhua East Street, Tongzhou District, Beijing 101100, China\n",
      "False\n",
      "Floors 27-30, Century Exchange Tower 2, No. 1196 Century Avenue, Pudong New District, Shanghai 200122, China\n",
      "False\n",
      "Fund Building, No. 5999, Yitian Road, Lianhua Street, Futian District, Shenzhen 518048, China\n",
      "False\n",
      "Room 1501, Building No. 6, Ronsin Technology Center, No. 34 ChuangYuan Road, Chaoyang District. Beijing 100032, China\n",
      "False\n",
      "Room 1501, Building No. 6, Ronsin Technology Center, No. 34 ChuangYuan Road, Chaoyang District. Beijing 100032, China\n",
      "False\n",
      "Room 1501, Building No. 6, Ronsin Technology Center, No. 34 ChuangYuan Road, Chaoyang District. Beijing 100032, China\n",
      "False\n",
      "Room 1501, Building No. 6, Ronsin Technology Center, No. 34 ChuangYuan Road, Chaoyang District. Beijing 100032, China\n",
      "False\n",
      "Floor 17-20, China Resources Financial Building, No. 2700 Keyuan South Road, Haizhu Community, Yuehai Street, Nanshan District, Shenzhen 518000, China\n",
      "False\n",
      "Room 201, Building A, No. 1 Qianwan 1st Road, Qianhai Shenzhen-Hong Kong Cooperation Zone, Shenzhen, Guangdong Province 518054, China\n",
      "False\n",
      "Floor 40-43, Guangzhou Bank Building, No. 30 Zhujiang East Road, Zhujiang New Town, Tianhe District, Guangzhou 510620, China\n",
      "False\n",
      "Unit 105-3491, No. 6, Baohua Road, Hengqin New Area, Zhuhai, Guangdong Province 519000, China\n",
      "False\n",
      "Unit 105-3491, No. 6, Baohua Road, Hengqin New Area, Zhuhai, Guangdong Province 519000, China\n",
      "False\n",
      "Unit 105-3491, No. 6, Baohua Road, Hengqin New Area, Zhuhai, Guangdong Province 519000, China\n",
      "False\n",
      "Unit 105-3491, No. 6, Baohua Road, Hengqin New Area, Zhuhai, Guangdong Province 519000, China\n",
      "False\n",
      "Unit 105-3491, No. 6, Baohua Road, Hengqin New Area, Zhuhai, Guangdong Province 519000, China\n",
      "False\n",
      "8th Floor, Shanghai Tower, No. 479, Lujiazui Ring Road, China (Shanghai) Pilot Free Trade Zone, Shanghai 200120, China\n",
      "False\n",
      "Floor 40-43, Guangzhou Bank Building, No. 30 Zhujiang East Road, Zhujiang New Town, Tianhe District, Guangzhou 510620, China\n",
      "False\n",
      "Floor 40-43, Guangzhou Bank Building, No. 30 Zhujiang East Road, Zhujiang New Town, Tianhe District, Guangzhou 510620, China\n",
      "False\n",
      "A Space, No. 569 Xixi Road, Xihu District, Hangzhou 310013, China\n",
      "False\n",
      "A Space, No. 569 Xixi Road, Xihu District, Hangzhou 310013, China\n",
      "False\n",
      "Floor 17-20, China Resources Financial Building, No. 2700 Keyuan South Road, Haizhu Community, Yuehai Street, Nanshan District, Shenzhen 518000, China\n",
      "False\n",
      "Floor 17-20, China Resources Financial Building, No. 2700 Keyuan South Road, Haizhu Community, Yuehai Street, Nanshan District, Shenzhen 518000, China\n",
      "False\n",
      "Floor 17-20, China Resources Financial Building, No. 2700 Keyuan South Road, Haizhu Community, Yuehai Street, Nanshan District, Shenzhen 518000, China\n",
      "False\n",
      "Floors 8, 11 and 12, North Building, Jinjia Building, No. 6 Financial Street, Xicheng District, Beijing 100033, China\n"
     ]
    }
   ],
   "source": [
    "for idx_row in range(0,66):#len(df)):\n",
    "    row = df.iloc[idx_row]\n",
    "    print(row.isna()[\"Address\"])\n",
    "    print(row[\"Address\"])"
   ]
  },
  {
   "cell_type": "markdown",
   "metadata": {},
   "source": [
    "# Creating New DataFrame"
   ]
  },
  {
   "cell_type": "code",
   "execution_count": 14,
   "metadata": {},
   "outputs": [
    {
     "name": "stdout",
     "output_type": "stream",
     "text": [
      "   Name  Age  City  name   age      city\n",
      "0   NaN  NaN   NaN  John  35.0  New York\n"
     ]
    },
    {
     "name": "stderr",
     "output_type": "stream",
     "text": [
      "C:\\Users\\tonyw\\AppData\\Local\\Temp\\ipykernel_50604\\3204055535.py:11: FutureWarning: The frame.append method is deprecated and will be removed from pandas in a future version. Use pandas.concat instead.\n",
      "  df = df.append(new_row, ignore_index=True)\n"
     ]
    }
   ],
   "source": [
    "data = {\n",
    "    \"Name\": [],\n",
    "    \"Age\": [],\n",
    "    \"City\": [],\n",
    "}\n",
    "df = pandas.DataFrame(data)\n",
    "\n",
    "# By setting the ignore_index parameter to True, you ensure that the new row is added to the DataFrame with a new index, maintaining a continuous index sequence.\n",
    "# From https://saturncloud.io/blog/how-to-add-new-rows-to-a-pandas-dataframe/\n",
    "new_row = {\"Name\": \"John\", \"Age\": 35, \"City\": \"New York\"}\n",
    "df = df.append(new_row, ignore_index=True)\n",
    "print(df)"
   ]
  },
  {
   "cell_type": "code",
   "execution_count": null,
   "metadata": {},
   "outputs": [],
   "source": []
  }
 ],
 "metadata": {
  "kernelspec": {
   "display_name": "base",
   "language": "python",
   "name": "python3"
  },
  "language_info": {
   "codemirror_mode": {
    "name": "ipython",
    "version": 3
   },
   "file_extension": ".py",
   "mimetype": "text/x-python",
   "name": "python",
   "nbconvert_exporter": "python",
   "pygments_lexer": "ipython3",
   "version": "3.10.9"
  }
 },
 "nbformat": 4,
 "nbformat_minor": 2
}
